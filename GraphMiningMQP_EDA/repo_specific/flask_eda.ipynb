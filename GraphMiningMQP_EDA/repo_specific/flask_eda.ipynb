{
 "cells": [
  {
   "cell_type": "code",
   "execution_count": 16,
   "id": "d209f050",
   "metadata": {},
   "outputs": [],
   "source": [
    "# Import the libraries\n",
    "import os\n",
    "import pandas as pd\n",
    "import numpy as np\n",
    "import json\n",
    "import matplotlib.pyplot as plt\n",
    "import seaborn as sns\n",
    "%config InlineBackend.figure_format ='retina'\n",
    "import warnings\n",
    "warnings.simplefilter(action='ignore', category=FutureWarning)\n"
   ]
  },
  {
   "cell_type": "code",
   "execution_count": 17,
   "id": "36ee14e2",
   "metadata": {},
   "outputs": [],
   "source": [
    "#topStared=pd.read_csv('data/TopStaredRepositories.csv', sep=\",\")\n",
    "#commits=pd.read_csv('data/commitsTopStaredRepositories.csv', sep=\",\")\n",
    "flask=pd.read_csv('data/pallets_flask.csv', sep=\",\")"
   ]
  },
  {
   "cell_type": "markdown",
   "id": "d1ffbf59",
   "metadata": {},
   "source": [
    "## Data Info"
   ]
  },
  {
   "cell_type": "code",
   "execution_count": 18,
   "id": "bad70c06",
   "metadata": {},
   "outputs": [
    {
     "data": {
      "text/plain": [
       "<bound method NDFrame.head of        owner   repo                       fileTuple<fileName.fileSize>\n",
       "0    pallets  flask      ('main/.devcontainer/devcontainer.json', 434)\n",
       "1    pallets  flask   ('main/.devcontainer/on-create-command.sh', 170)\n",
       "2    pallets  flask                        ('main/.editorconfig', 217)\n",
       "3    pallets  flask                              ('main/.flake8', 544)\n",
       "4    pallets  flask  ('main/.github/ISSUE_TEMPLATE/bug-report.md', ...\n",
       "..       ...    ...                                                ...\n",
       "244  pallets  flask                 ('main/tests/test_views.py', 6698)\n",
       "245  pallets  flask  ('main/tests/typing/typing_app_decorators.py',...\n",
       "246  pallets  flask  ('main/tests/typing/typing_error_handler.py', ...\n",
       "247  pallets  flask        ('main/tests/typing/typing_route.py', 2536)\n",
       "248  pallets  flask                             ('main/tox.ini', 1256)\n",
       "\n",
       "[249 rows x 3 columns]>"
      ]
     },
     "execution_count": 18,
     "metadata": {},
     "output_type": "execute_result"
    }
   ],
   "source": [
    "flask.head"
   ]
  },
  {
   "cell_type": "code",
   "execution_count": 19,
   "id": "9219afe3",
   "metadata": {},
   "outputs": [
    {
     "data": {
      "text/plain": [
       "(249, 3)"
      ]
     },
     "execution_count": 19,
     "metadata": {},
     "output_type": "execute_result"
    }
   ],
   "source": [
    "flask.shape"
   ]
  },
  {
   "cell_type": "code",
   "execution_count": 20,
   "id": "d728f3dc",
   "metadata": {},
   "outputs": [
    {
     "name": "stdout",
     "output_type": "stream",
     "text": [
      "<class 'pandas.core.frame.DataFrame'>\n",
      "RangeIndex: 249 entries, 0 to 248\n",
      "Data columns (total 3 columns):\n",
      " #   Column                        Non-Null Count  Dtype \n",
      "---  ------                        --------------  ----- \n",
      " 0   owner                         249 non-null    object\n",
      " 1   repo                          249 non-null    object\n",
      " 2   fileTuple<fileName.fileSize>  249 non-null    object\n",
      "dtypes: object(3)\n",
      "memory usage: 6.0+ KB\n"
     ]
    }
   ],
   "source": [
    "flask.info()"
   ]
  },
  {
   "cell_type": "code",
   "execution_count": 21,
   "id": "6e9d9cf6",
   "metadata": {},
   "outputs": [
    {
     "data": {
      "text/plain": [
       "owner                           0\n",
       "repo                            0\n",
       "fileTuple<fileName.fileSize>    0\n",
       "dtype: int64"
      ]
     },
     "execution_count": 21,
     "metadata": {},
     "output_type": "execute_result"
    }
   ],
   "source": [
    "flask.isnull().sum()"
   ]
  },
  {
   "cell_type": "markdown",
   "id": "839819bb",
   "metadata": {},
   "source": [
    "# EDA"
   ]
  },
  {
   "cell_type": "markdown",
   "id": "8e747892",
   "metadata": {},
   "source": [
    "### React EDA"
   ]
  },
  {
   "cell_type": "code",
   "execution_count": 22,
   "metadata": {},
   "outputs": [
    {
     "name": "stdout",
     "output_type": "stream",
     "text": [
      "<class 'pandas.core.frame.DataFrame'>\n",
      "RangeIndex: 249 entries, 0 to 248\n",
      "Data columns (total 3 columns):\n",
      " #   Column                        Non-Null Count  Dtype \n",
      "---  ------                        --------------  ----- \n",
      " 0   owner                         249 non-null    object\n",
      " 1   repo                          249 non-null    object\n",
      " 2   fileTuple<fileName.fileSize>  249 non-null    object\n",
      "dtypes: object(3)\n",
      "memory usage: 6.0+ KB\n"
     ]
    }
   ],
   "source": [
    "flask.info()"
   ]
  },
  {
   "cell_type": "code",
   "execution_count": 23,
   "metadata": {},
   "outputs": [
    {
     "name": "stdout",
     "output_type": "stream",
     "text": [
      "<class 'pandas.core.frame.DataFrame'>\n",
      "RangeIndex: 249 entries, 0 to 248\n",
      "Data columns (total 3 columns):\n",
      " #   Column                        Non-Null Count  Dtype \n",
      "---  ------                        --------------  ----- \n",
      " 0   owner                         249 non-null    object\n",
      " 1   repo                          249 non-null    object\n",
      " 2   fileTuple<fileName.fileSize>  249 non-null    object\n",
      "dtypes: object(3)\n",
      "memory usage: 6.0+ KB\n"
     ]
    }
   ],
   "source": [
    "flask.info()"
   ]
  },
  {
   "cell_type": "code",
   "execution_count": 24,
   "id": "c16c0993",
   "metadata": {},
   "outputs": [
    {
     "data": {
      "text/html": [
       "<div>\n",
       "<style scoped>\n",
       "    .dataframe tbody tr th:only-of-type {\n",
       "        vertical-align: middle;\n",
       "    }\n",
       "\n",
       "    .dataframe tbody tr th {\n",
       "        vertical-align: top;\n",
       "    }\n",
       "\n",
       "    .dataframe thead th {\n",
       "        text-align: right;\n",
       "    }\n",
       "</style>\n",
       "<table border=\"1\" class=\"dataframe\">\n",
       "  <thead>\n",
       "    <tr style=\"text-align: right;\">\n",
       "      <th></th>\n",
       "      <th>owner</th>\n",
       "      <th>repo</th>\n",
       "      <th>fileTuple&lt;fileName.fileSize&gt;</th>\n",
       "    </tr>\n",
       "  </thead>\n",
       "  <tbody>\n",
       "    <tr>\n",
       "      <th>0</th>\n",
       "      <td>pallets</td>\n",
       "      <td>flask</td>\n",
       "      <td>('main/.devcontainer/devcontainer.json', 434)</td>\n",
       "    </tr>\n",
       "    <tr>\n",
       "      <th>1</th>\n",
       "      <td>pallets</td>\n",
       "      <td>flask</td>\n",
       "      <td>('main/.devcontainer/on-create-command.sh', 170)</td>\n",
       "    </tr>\n",
       "    <tr>\n",
       "      <th>2</th>\n",
       "      <td>pallets</td>\n",
       "      <td>flask</td>\n",
       "      <td>('main/.editorconfig', 217)</td>\n",
       "    </tr>\n",
       "    <tr>\n",
       "      <th>3</th>\n",
       "      <td>pallets</td>\n",
       "      <td>flask</td>\n",
       "      <td>('main/.flake8', 544)</td>\n",
       "    </tr>\n",
       "    <tr>\n",
       "      <th>4</th>\n",
       "      <td>pallets</td>\n",
       "      <td>flask</td>\n",
       "      <td>('main/.github/ISSUE_TEMPLATE/bug-report.md', ...</td>\n",
       "    </tr>\n",
       "  </tbody>\n",
       "</table>\n",
       "</div>"
      ],
      "text/plain": [
       "     owner   repo                       fileTuple<fileName.fileSize>\n",
       "0  pallets  flask      ('main/.devcontainer/devcontainer.json', 434)\n",
       "1  pallets  flask   ('main/.devcontainer/on-create-command.sh', 170)\n",
       "2  pallets  flask                        ('main/.editorconfig', 217)\n",
       "3  pallets  flask                              ('main/.flake8', 544)\n",
       "4  pallets  flask  ('main/.github/ISSUE_TEMPLATE/bug-report.md', ..."
      ]
     },
     "execution_count": 24,
     "metadata": {},
     "output_type": "execute_result"
    }
   ],
   "source": [
    "flask.head()"
   ]
  },
  {
   "cell_type": "code",
   "execution_count": 25,
   "metadata": {},
   "outputs": [
    {
     "data": {
      "image/png": "[encoded data removed]",
      "text/plain": [
       "<Figure size 720x432 with 1 Axes>"
      ]
     },
     "metadata": {
      "image/png": {
       "height": 386,
       "width": 610
      },
      "needs_background": "light"
     },
     "output_type": "display_data"
    }
   ],
   "source": [
    "flask = flask.rename(columns={'fileTuple<fileName.fileSize>': 'name-size', })\n",
    "\n",
    "flask[['filePath', 'fileSize']] = flask['name-size'].str.rstrip(')').str.split(', ', expand=True)\n",
    "flask['fileSize'] = flask['fileSize'].astype(int)\n",
    "\n",
    "plt.figure(figsize=(10, 6))\n",
    "plt.hist(flask['fileSize'], bins=20, color='skyblue', edgecolor='black')\n",
    "plt.title('File Size Distribution')\n",
    "plt.xlabel('File Size (bytes)')\n",
    "plt.ylabel('Number of Files')\n",
    "plt.grid(axis='y', linestyle='--', alpha=0.7)\n",
    "plt.yscale('log')\n",
    "plt.show()"
   ]
  },
  {
   "cell_type": "code",
   "execution_count": 26,
   "metadata": {},
   "outputs": [
    {
     "name": "stdout",
     "output_type": "stream",
     "text": [
      "Number of code files: 86\n",
      "Number of documentation files: 86\n",
      "Ratio of code to documentation: 1.00\n"
     ]
    }
   ],
   "source": [
    "# Categorize files\n",
    "def categorize_file(file_path):\n",
    "    if '/tests/' in file_path:\n",
    "        return 'Test'\n",
    "    elif '/docs/' in file_path or '/documentation/' in file_path:\n",
    "        return 'Documentation'\n",
    "    elif '/.github/' in file_path:\n",
    "        return 'GitHub Configuration'\n",
    "    else:\n",
    "        return 'Code'\n",
    "\n",
    "flask['fileCategory'] = flask['filePath'].apply(categorize_file)\n",
    "\n",
    "# Calculate the ratio of code to documentation\n",
    "code_count = flask[flask['fileCategory'] == 'Code'].shape[0]\n",
    "documentation_count = flask[flask['fileCategory'] == 'Documentation'].shape[0]\n",
    "\n",
    "ratio_code_to_documentation = code_count / documentation_count if documentation_count != 0 else 0\n",
    "\n",
    "print(f\"Number of code files: {code_count}\")\n",
    "print(f\"Number of documentation files: {documentation_count}\")\n",
    "print(f\"Ratio of code to documentation: {ratio_code_to_documentation:.2f}\")"
   ]
  }
 ],
 "metadata": {
  "kernelspec": {
   "display_name": "Python 3 (ipykernel)",
   "language": "python",
   "name": "python3"
  },
  "language_info": {
   "codemirror_mode": {
    "name": "ipython",
    "version": 3
   },
   "file_extension": ".py",
   "mimetype": "text/x-python",
   "name": "python",
   "nbconvert_exporter": "python",
   "pygments_lexer": "ipython3",
   "version": "3.9.12"
  }
 },
 "nbformat": 4,
 "nbformat_minor": 5
}
