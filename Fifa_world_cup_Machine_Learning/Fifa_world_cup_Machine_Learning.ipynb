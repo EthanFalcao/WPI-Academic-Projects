{
 "cells": [
  {
   "cell_type": "code",
   "execution_count": 1,
   "id": "2dba5b74",
   "metadata": {},
   "outputs": [],
   "source": [
    "# Ethan Vaz Falcao \n",
    "import os\n",
    "import pandas as pd\n",
    "import numpy as np\n",
    "import matplotlib.pyplot as plt\n",
    "import statsmodels.api as sm\n",
    "import seaborn as sns\n",
    "import numpy as np\n",
    "import seaborn as seabornInstance\n",
    "from sklearn.metrics import confusion_matrix\n",
    "from sklearn.model_selection import train_test_split\n",
    "from sklearn.preprocessing import OneHotEncoder, PolynomialFeatures\n",
    "from sklearn.metrics import mean_squared_error\n",
    "from sklearn.neighbors import KNeighborsRegressor\n",
    "from sklearn.discriminant_analysis import LinearDiscriminantAnalysis\n",
    "from sklearn.discriminant_analysis import QuadraticDiscriminantAnalysis\n",
    "from sklearn.linear_model import LinearRegression\n",
    "from sklearn.linear_model import LogisticRegression\n",
    "from sklearn import datasets, linear_model\n",
    "from sklearn.linear_model import RidgeCV\n",
    "from sklearn.linear_model import LassoCV\n",
    "from scipy.stats import poisson"
   ]
  },
  {
   "cell_type": "code",
   "execution_count": 2,
   "id": "1cd128c5",
   "metadata": {},
   "outputs": [],
   "source": [
    "df = pd.read_csv(\"/Users/Ethan Vaz Falcao/Downloads/Data/Fifa_world_cup.csv\", sep=\",\")\n",
    "df=df.drop([\"Unnamed: 0\"], axis = 1)"
   ]
  },
  {
   "cell_type": "code",
   "execution_count": 3,
   "id": "90877a65",
   "metadata": {},
   "outputs": [
    {
     "data": {
      "text/html": [
       "<div>\n",
       "<style scoped>\n",
       "    .dataframe tbody tr th:only-of-type {\n",
       "        vertical-align: middle;\n",
       "    }\n",
       "\n",
       "    .dataframe tbody tr th {\n",
       "        vertical-align: top;\n",
       "    }\n",
       "\n",
       "    .dataframe thead th {\n",
       "        text-align: right;\n",
       "    }\n",
       "</style>\n",
       "<table border=\"1\" class=\"dataframe\">\n",
       "  <thead>\n",
       "    <tr style=\"text-align: right;\">\n",
       "      <th></th>\n",
       "      <th>date</th>\n",
       "      <th>home_team</th>\n",
       "      <th>away_team</th>\n",
       "      <th>home_team_score</th>\n",
       "      <th>away_team_score</th>\n",
       "      <th>tournament</th>\n",
       "      <th>location</th>\n",
       "      <th>home_team_total_fifa_points</th>\n",
       "      <th>home_team_fifa_rank</th>\n",
       "      <th>away_team_total_fifa_points</th>\n",
       "      <th>away_team_fifa_rank</th>\n",
       "      <th>goal_difference</th>\n",
       "      <th>goal_total</th>\n",
       "    </tr>\n",
       "  </thead>\n",
       "  <tbody>\n",
       "    <tr>\n",
       "      <th>0</th>\n",
       "      <td>2008-08-01</td>\n",
       "      <td>Afghanistan</td>\n",
       "      <td>Turkmenistan</td>\n",
       "      <td>0</td>\n",
       "      <td>5</td>\n",
       "      <td>AFC Challenge Cup</td>\n",
       "      <td>Hyderabad</td>\n",
       "      <td>53.00</td>\n",
       "      <td>181.0</td>\n",
       "      <td>127.00</td>\n",
       "      <td>158.0</td>\n",
       "      <td>5</td>\n",
       "      <td>5</td>\n",
       "    </tr>\n",
       "    <tr>\n",
       "      <th>1</th>\n",
       "      <td>2008-08-01</td>\n",
       "      <td>India</td>\n",
       "      <td>Tajikistan</td>\n",
       "      <td>1</td>\n",
       "      <td>1</td>\n",
       "      <td>AFC Challenge Cup</td>\n",
       "      <td>Hyderabad</td>\n",
       "      <td>137.00</td>\n",
       "      <td>153.0</td>\n",
       "      <td>135.00</td>\n",
       "      <td>154.0</td>\n",
       "      <td>0</td>\n",
       "      <td>2</td>\n",
       "    </tr>\n",
       "    <tr>\n",
       "      <th>2</th>\n",
       "      <td>2008-08-02</td>\n",
       "      <td>Sri Lanka</td>\n",
       "      <td>Myanmar</td>\n",
       "      <td>1</td>\n",
       "      <td>3</td>\n",
       "      <td>AFC Challenge Cup</td>\n",
       "      <td>Hyderabad</td>\n",
       "      <td>111.00</td>\n",
       "      <td>161.0</td>\n",
       "      <td>100.00</td>\n",
       "      <td>164.0</td>\n",
       "      <td>2</td>\n",
       "      <td>4</td>\n",
       "    </tr>\n",
       "    <tr>\n",
       "      <th>3</th>\n",
       "      <td>2008-08-03</td>\n",
       "      <td>Afghanistan</td>\n",
       "      <td>Tajikistan</td>\n",
       "      <td>0</td>\n",
       "      <td>4</td>\n",
       "      <td>AFC Challenge Cup</td>\n",
       "      <td>Hyderabad</td>\n",
       "      <td>53.00</td>\n",
       "      <td>181.0</td>\n",
       "      <td>135.00</td>\n",
       "      <td>154.0</td>\n",
       "      <td>4</td>\n",
       "      <td>4</td>\n",
       "    </tr>\n",
       "    <tr>\n",
       "      <th>4</th>\n",
       "      <td>2008-08-03</td>\n",
       "      <td>India</td>\n",
       "      <td>Turkmenistan</td>\n",
       "      <td>2</td>\n",
       "      <td>1</td>\n",
       "      <td>AFC Challenge Cup</td>\n",
       "      <td>Hyderabad</td>\n",
       "      <td>137.00</td>\n",
       "      <td>153.0</td>\n",
       "      <td>127.00</td>\n",
       "      <td>158.0</td>\n",
       "      <td>1</td>\n",
       "      <td>3</td>\n",
       "    </tr>\n",
       "    <tr>\n",
       "      <th>...</th>\n",
       "      <td>...</td>\n",
       "      <td>...</td>\n",
       "      <td>...</td>\n",
       "      <td>...</td>\n",
       "      <td>...</td>\n",
       "      <td>...</td>\n",
       "      <td>...</td>\n",
       "      <td>...</td>\n",
       "      <td>...</td>\n",
       "      <td>...</td>\n",
       "      <td>...</td>\n",
       "      <td>...</td>\n",
       "      <td>...</td>\n",
       "    </tr>\n",
       "    <tr>\n",
       "      <th>10943</th>\n",
       "      <td>2022-09-27</td>\n",
       "      <td>Norway</td>\n",
       "      <td>Serbia</td>\n",
       "      <td>0</td>\n",
       "      <td>2</td>\n",
       "      <td>UEFA Nations League</td>\n",
       "      <td>Oslo</td>\n",
       "      <td>1488.57</td>\n",
       "      <td>36.0</td>\n",
       "      <td>1549.53</td>\n",
       "      <td>25.0</td>\n",
       "      <td>2</td>\n",
       "      <td>2</td>\n",
       "    </tr>\n",
       "    <tr>\n",
       "      <th>10944</th>\n",
       "      <td>2022-09-27</td>\n",
       "      <td>Sweden</td>\n",
       "      <td>Slovenia</td>\n",
       "      <td>1</td>\n",
       "      <td>1</td>\n",
       "      <td>UEFA Nations League</td>\n",
       "      <td>Stockholm</td>\n",
       "      <td>1563.44</td>\n",
       "      <td>20.0</td>\n",
       "      <td>1372.48</td>\n",
       "      <td>65.0</td>\n",
       "      <td>0</td>\n",
       "      <td>2</td>\n",
       "    </tr>\n",
       "    <tr>\n",
       "      <th>10945</th>\n",
       "      <td>2022-09-27</td>\n",
       "      <td>Kosovo</td>\n",
       "      <td>Cyprus</td>\n",
       "      <td>5</td>\n",
       "      <td>1</td>\n",
       "      <td>UEFA Nations League</td>\n",
       "      <td>Pristina</td>\n",
       "      <td>1183.90</td>\n",
       "      <td>106.0</td>\n",
       "      <td>1180.52</td>\n",
       "      <td>108.0</td>\n",
       "      <td>4</td>\n",
       "      <td>6</td>\n",
       "    </tr>\n",
       "    <tr>\n",
       "      <th>10946</th>\n",
       "      <td>2022-09-27</td>\n",
       "      <td>Greece</td>\n",
       "      <td>Northern Ireland</td>\n",
       "      <td>3</td>\n",
       "      <td>1</td>\n",
       "      <td>UEFA Nations League</td>\n",
       "      <td>Athens</td>\n",
       "      <td>1441.45</td>\n",
       "      <td>49.0</td>\n",
       "      <td>1399.10</td>\n",
       "      <td>58.0</td>\n",
       "      <td>2</td>\n",
       "      <td>4</td>\n",
       "    </tr>\n",
       "    <tr>\n",
       "      <th>10947</th>\n",
       "      <td>2022-09-30</td>\n",
       "      <td>Fiji</td>\n",
       "      <td>Solomon Islands</td>\n",
       "      <td>1</td>\n",
       "      <td>0</td>\n",
       "      <td>MSG Prime Minister's Cup</td>\n",
       "      <td>Luganville</td>\n",
       "      <td>993.37</td>\n",
       "      <td>163.0</td>\n",
       "      <td>1092.56</td>\n",
       "      <td>137.0</td>\n",
       "      <td>1</td>\n",
       "      <td>1</td>\n",
       "    </tr>\n",
       "  </tbody>\n",
       "</table>\n",
       "<p>10948 rows × 13 columns</p>\n",
       "</div>"
      ],
      "text/plain": [
       "             date    home_team         away_team  home_team_score  \\\n",
       "0      2008-08-01  Afghanistan      Turkmenistan                0   \n",
       "1      2008-08-01        India        Tajikistan                1   \n",
       "2      2008-08-02    Sri Lanka           Myanmar                1   \n",
       "3      2008-08-03  Afghanistan        Tajikistan                0   \n",
       "4      2008-08-03        India      Turkmenistan                2   \n",
       "...           ...          ...               ...              ...   \n",
       "10943  2022-09-27       Norway            Serbia                0   \n",
       "10944  2022-09-27       Sweden          Slovenia                1   \n",
       "10945  2022-09-27       Kosovo            Cyprus                5   \n",
       "10946  2022-09-27       Greece  Northern Ireland                3   \n",
       "10947  2022-09-30         Fiji   Solomon Islands                1   \n",
       "\n",
       "       away_team_score                tournament    location  \\\n",
       "0                    5         AFC Challenge Cup   Hyderabad   \n",
       "1                    1         AFC Challenge Cup   Hyderabad   \n",
       "2                    3         AFC Challenge Cup   Hyderabad   \n",
       "3                    4         AFC Challenge Cup   Hyderabad   \n",
       "4                    1         AFC Challenge Cup   Hyderabad   \n",
       "...                ...                       ...         ...   \n",
       "10943                2       UEFA Nations League        Oslo   \n",
       "10944                1       UEFA Nations League   Stockholm   \n",
       "10945                1       UEFA Nations League    Pristina   \n",
       "10946                1       UEFA Nations League      Athens   \n",
       "10947                0  MSG Prime Minister's Cup  Luganville   \n",
       "\n",
       "       home_team_total_fifa_points  home_team_fifa_rank  \\\n",
       "0                            53.00                181.0   \n",
       "1                           137.00                153.0   \n",
       "2                           111.00                161.0   \n",
       "3                            53.00                181.0   \n",
       "4                           137.00                153.0   \n",
       "...                            ...                  ...   \n",
       "10943                      1488.57                 36.0   \n",
       "10944                      1563.44                 20.0   \n",
       "10945                      1183.90                106.0   \n",
       "10946                      1441.45                 49.0   \n",
       "10947                       993.37                163.0   \n",
       "\n",
       "       away_team_total_fifa_points  away_team_fifa_rank  goal_difference  \\\n",
       "0                           127.00                158.0                5   \n",
       "1                           135.00                154.0                0   \n",
       "2                           100.00                164.0                2   \n",
       "3                           135.00                154.0                4   \n",
       "4                           127.00                158.0                1   \n",
       "...                            ...                  ...              ...   \n",
       "10943                      1549.53                 25.0                2   \n",
       "10944                      1372.48                 65.0                0   \n",
       "10945                      1180.52                108.0                4   \n",
       "10946                      1399.10                 58.0                2   \n",
       "10947                      1092.56                137.0                1   \n",
       "\n",
       "       goal_total  \n",
       "0               5  \n",
       "1               2  \n",
       "2               4  \n",
       "3               4  \n",
       "4               3  \n",
       "...           ...  \n",
       "10943           2  \n",
       "10944           2  \n",
       "10945           6  \n",
       "10946           4  \n",
       "10947           1  \n",
       "\n",
       "[10948 rows x 13 columns]"
      ]
     },
     "execution_count": 3,
     "metadata": {},
     "output_type": "execute_result"
    }
   ],
   "source": [
    "df"
   ]
  },
  {
   "cell_type": "code",
   "execution_count": 4,
   "id": "ee412244",
   "metadata": {},
   "outputs": [
    {
     "name": "stdout",
     "output_type": "stream",
     "text": [
      "1.5448483741322616\n",
      "1.0533430763609792\n"
     ]
    }
   ],
   "source": [
    "mean_goals = sum(df[\"home_team_score\"])/(len(df))\n",
    "print(mean_goals)\n",
    "mean_goals_dF = sum(df[\"away_team_score\"])/(len(df))\n",
    "print(mean_goals_dF)"
   ]
  },
  {
   "cell_type": "code",
   "execution_count": 5,
   "id": "e9fccdbd",
   "metadata": {},
   "outputs": [],
   "source": [
    "df_home = df[['home_team', \"home_team_fifa_rank\",\"home_team_score\",\"away_team_score\"]]\n",
    "df_away = df[['away_team', \"away_team_fifa_rank\",\"home_team_score\",\"away_team_score\"]]\n",
    "\n",
    "df_home = df_home.rename(columns={'home_team': \"Team\", \"home_team_fifa_rank\":\"fifa_rank\",\"home_team_score\":\"Goals\",\"away_team_score\":\"Goals_Conceded\"})\n",
    "df_away = df_away.rename(columns={'away_team': \"Team\", \"away_team_fifa_rank\":\"fifa_rank\",\"home_team_score\": \"Goals_Conceded\",\"away_team_score\":\"Goals\"})\n",
    "\n",
    "df_team = pd.concat([df_home,df_away],ignore_index= True).groupby(\"Team\").mean()\n"
   ]
  },
  {
   "cell_type": "markdown",
   "id": "51720220",
   "metadata": {},
   "source": [
    "Calculating Offense Strength is dividing the team’s average number of goals scored by the average number of goals allowed. Calculating Defence Strength is dividing the team’s average number of goals allowed by the average number of goals allowed."
   ]
  },
  {
   "cell_type": "code",
   "execution_count": 6,
   "id": "4824fb2c",
   "metadata": {},
   "outputs": [
    {
     "data": {
      "text/html": [
       "<div>\n",
       "<style scoped>\n",
       "    .dataframe tbody tr th:only-of-type {\n",
       "        vertical-align: middle;\n",
       "    }\n",
       "\n",
       "    .dataframe tbody tr th {\n",
       "        vertical-align: top;\n",
       "    }\n",
       "\n",
       "    .dataframe thead th {\n",
       "        text-align: right;\n",
       "    }\n",
       "</style>\n",
       "<table border=\"1\" class=\"dataframe\">\n",
       "  <thead>\n",
       "    <tr style=\"text-align: right;\">\n",
       "      <th></th>\n",
       "      <th>fifa_rank</th>\n",
       "      <th>Goals</th>\n",
       "      <th>Goals_Conceded</th>\n",
       "      <th>Of_strength</th>\n",
       "      <th>Df_strength</th>\n",
       "    </tr>\n",
       "    <tr>\n",
       "      <th>Team</th>\n",
       "      <th></th>\n",
       "      <th></th>\n",
       "      <th></th>\n",
       "      <th></th>\n",
       "      <th></th>\n",
       "    </tr>\n",
       "  </thead>\n",
       "  <tbody>\n",
       "    <tr>\n",
       "      <th>Afghanistan</th>\n",
       "      <td>156.062500</td>\n",
       "      <td>1.262500</td>\n",
       "      <td>1.600000</td>\n",
       "      <td>0.817232</td>\n",
       "      <td>1.518973</td>\n",
       "    </tr>\n",
       "    <tr>\n",
       "      <th>Albania</th>\n",
       "      <td>63.333333</td>\n",
       "      <td>1.029630</td>\n",
       "      <td>1.133333</td>\n",
       "      <td>0.666492</td>\n",
       "      <td>1.075939</td>\n",
       "    </tr>\n",
       "    <tr>\n",
       "      <th>Algeria</th>\n",
       "      <td>38.448276</td>\n",
       "      <td>1.786207</td>\n",
       "      <td>0.882759</td>\n",
       "      <td>1.156234</td>\n",
       "      <td>0.838054</td>\n",
       "    </tr>\n",
       "    <tr>\n",
       "      <th>American Samoa</th>\n",
       "      <td>199.600000</td>\n",
       "      <td>1.133333</td>\n",
       "      <td>4.200000</td>\n",
       "      <td>0.733621</td>\n",
       "      <td>3.987305</td>\n",
       "    </tr>\n",
       "    <tr>\n",
       "      <th>Andorra</th>\n",
       "      <td>174.450450</td>\n",
       "      <td>0.324324</td>\n",
       "      <td>2.369369</td>\n",
       "      <td>0.209939</td>\n",
       "      <td>2.249380</td>\n",
       "    </tr>\n",
       "    <tr>\n",
       "      <th>...</th>\n",
       "      <td>...</td>\n",
       "      <td>...</td>\n",
       "      <td>...</td>\n",
       "      <td>...</td>\n",
       "      <td>...</td>\n",
       "    </tr>\n",
       "    <tr>\n",
       "      <th>Vietnam</th>\n",
       "      <td>125.410714</td>\n",
       "      <td>1.589286</td>\n",
       "      <td>1.232143</td>\n",
       "      <td>1.028765</td>\n",
       "      <td>1.169745</td>\n",
       "    </tr>\n",
       "    <tr>\n",
       "      <th>Wales</th>\n",
       "      <td>38.308271</td>\n",
       "      <td>1.112782</td>\n",
       "      <td>1.120301</td>\n",
       "      <td>0.720318</td>\n",
       "      <td>1.063567</td>\n",
       "    </tr>\n",
       "    <tr>\n",
       "      <th>Yemen</th>\n",
       "      <td>148.029703</td>\n",
       "      <td>0.712871</td>\n",
       "      <td>1.752475</td>\n",
       "      <td>0.461451</td>\n",
       "      <td>1.663727</td>\n",
       "    </tr>\n",
       "    <tr>\n",
       "      <th>Zambia</th>\n",
       "      <td>74.878947</td>\n",
       "      <td>1.226316</td>\n",
       "      <td>0.947368</td>\n",
       "      <td>0.793810</td>\n",
       "      <td>0.899392</td>\n",
       "    </tr>\n",
       "    <tr>\n",
       "      <th>Zimbabwe</th>\n",
       "      <td>108.397163</td>\n",
       "      <td>1.276596</td>\n",
       "      <td>1.070922</td>\n",
       "      <td>0.826357</td>\n",
       "      <td>1.016689</td>\n",
       "    </tr>\n",
       "  </tbody>\n",
       "</table>\n",
       "<p>198 rows × 5 columns</p>\n",
       "</div>"
      ],
      "text/plain": [
       "                 fifa_rank     Goals  Goals_Conceded  Of_strength  Df_strength\n",
       "Team                                                                          \n",
       "Afghanistan     156.062500  1.262500        1.600000     0.817232     1.518973\n",
       "Albania          63.333333  1.029630        1.133333     0.666492     1.075939\n",
       "Algeria          38.448276  1.786207        0.882759     1.156234     0.838054\n",
       "American Samoa  199.600000  1.133333        4.200000     0.733621     3.987305\n",
       "Andorra         174.450450  0.324324        2.369369     0.209939     2.249380\n",
       "...                    ...       ...             ...          ...          ...\n",
       "Vietnam         125.410714  1.589286        1.232143     1.028765     1.169745\n",
       "Wales            38.308271  1.112782        1.120301     0.720318     1.063567\n",
       "Yemen           148.029703  0.712871        1.752475     0.461451     1.663727\n",
       "Zambia           74.878947  1.226316        0.947368     0.793810     0.899392\n",
       "Zimbabwe        108.397163  1.276596        1.070922     0.826357     1.016689\n",
       "\n",
       "[198 rows x 5 columns]"
      ]
     },
     "execution_count": 6,
     "metadata": {},
     "output_type": "execute_result"
    }
   ],
   "source": [
    "df_team[\"Of_strength\"]= df_team[\"Goals\"]/mean_goals\n",
    "df_team[\"Df_strength\"]= df_team[\"Goals_Conceded\"]/mean_goals_dF\n",
    "df_team"
   ]
  },
  {
   "cell_type": "code",
   "execution_count": 7,
   "id": "89b484ae",
   "metadata": {},
   "outputs": [
    {
     "data": {
      "image/png": "[encoded data removed]",
      "text/plain": [
       "<Figure size 432x288 with 2 Axes>"
      ]
     },
     "metadata": {
      "needs_background": "light"
     },
     "output_type": "display_data"
    }
   ],
   "source": [
    "ax = sns.heatmap(df_team.corr(), annot=True)\n",
    "#plt.show()\n",
    "def goals_prob(home, away):\n",
    "    goals_exp_home = df_team[\"Of_strength\"][home] * df_team[\"Df_strength\"][away]\n",
    "    goals_exp_away = df_team[\"Of_strength\"][away] * df_team[\"Df_strength\"][home]\n",
    "    return goals_exp_home, goals_exp_away"
   ]
  },
  {
   "cell_type": "code",
   "execution_count": 8,
   "id": "07e5c9e1",
   "metadata": {},
   "outputs": [],
   "source": [
    "#Uses a Poisson distribution to calculate the expected score of a football match between two contries \n",
    "def match_score(home,away):\n",
    "    if home in df_team.index and away in df_team.index:\n",
    "        exp_home =df_team[\"Of_strength\"][home]*df_team[\"Df_strength\"][away]\n",
    "        exp_away =df_team[\"Of_strength\"][away]*df_team[\"Df_strength\"][home]\n",
    "       # return goals_exp_home,goals_exp_away\n",
    "        prob_home, prob_away, prob_draw = 0, 0, 0\n",
    "        for x in range(0,11): #number of goals home team\n",
    "            for y in range(0, 11): #number of goals away team\n",
    "                p = poisson.pmf(x, exp_home) * poisson.pmf(y, exp_away)\n",
    "                if x == y:\n",
    "                    prob_draw += p\n",
    "                elif x > y:\n",
    "                    prob_home += p\n",
    "                else:\n",
    "                    prob_away += p\n",
    "        \n",
    "        points_home = 3 * prob_home + prob_draw\n",
    "        points_away = 3 * prob_away + prob_draw\n",
    "        print(points_home, points_away)\n",
    "        if(points_home>points_away):\n",
    "            print(home,\" is likely to win!\")\n",
    "        else:\n",
    "            print(away,\" is likely to win!\")\n",
    "    else:\n",
    "        return (0, 0)"
   ]
  },
  {
   "cell_type": "code",
   "execution_count": 9,
   "id": "e2c61f8d",
   "metadata": {},
   "outputs": [
    {
     "name": "stdout",
     "output_type": "stream",
     "text": [
      "1.3678486571292472 1.3145081016173175\n",
      "France  is likely to win!\n"
     ]
    }
   ],
   "source": [
    "match_score(\"France\",\"Argentina\") "
   ]
  },
  {
   "cell_type": "code",
   "execution_count": 10,
   "id": "941bbca3",
   "metadata": {},
   "outputs": [
    {
     "name": "stdout",
     "output_type": "stream",
     "text": [
      "1.1355905079153732 1.5378927697752605\n",
      "Morocco  is likely to win!\n"
     ]
    }
   ],
   "source": [
    "match_score(\"Croatia\",\"Morocco\") "
   ]
  },
  {
   "cell_type": "code",
   "execution_count": 11,
   "id": "ab5e6eb2",
   "metadata": {},
   "outputs": [
    {
     "name": "stdout",
     "output_type": "stream",
     "text": [
      "MSE Linear Regression: 3.1262974952963543\n",
      "Coef Linear: [-0.01878278  0.0201612   0.00027971 -0.00038169]\n"
     ]
    }
   ],
   "source": [
    "#LinearRegression\n",
    "x = pd.DataFrame(df[['home_team_fifa_rank', 'away_team_fifa_rank', 'home_team_total_fifa_points', 'away_team_total_fifa_points']])\n",
    "x_train, x_test, y_train, y_test = train_test_split(x, df['home_team_score'] - df['away_team_score'], test_size=0.2, random_state=2)\n",
    "reg = linear_model.LinearRegression()\n",
    "reg.fit(x_train,y_train)\n",
    "y_pred = reg.predict(x_test)\n",
    "mse = mean_squared_error(y_test,y_pred)\n",
    "print(\"MSE Linear Regression:\", mse)\n",
    "print(\"Coef Linear:\", reg.coef_)\n"
   ]
  },
  {
   "cell_type": "code",
   "execution_count": 12,
   "id": "43445e59",
   "metadata": {},
   "outputs": [
    {
     "name": "stdout",
     "output_type": "stream",
     "text": [
      "MSE KNN = 5: 3.663744292237443\n"
     ]
    }
   ],
   "source": [
    "#KNeighborsRegressor n=5   \n",
    "reg2 = KNeighborsRegressor(n_neighbors=5)\n",
    "reg2.fit(x_train,y_train)\n",
    "y_pred2 = reg2.predict(x_test)\n",
    "mse2 = mean_squared_error(y_test,y_pred2)\n",
    "print(\"MSE KNN = 5:\", mse2)"
   ]
  },
  {
   "cell_type": "code",
   "execution_count": 13,
   "id": "26d4136b",
   "metadata": {},
   "outputs": [
    {
     "name": "stdout",
     "output_type": "stream",
     "text": [
      "MSE KNN = 10: 3.3772420091324205\n"
     ]
    }
   ],
   "source": [
    "#KNeighborsRegressor n=10\n",
    "reg3 = KNeighborsRegressor(n_neighbors=10)\n",
    "reg3.fit(x_train,y_train)\n",
    "y_pred3 = reg3.predict(x_test)\n",
    "mse3 = mean_squared_error(y_test,y_pred3)\n",
    "print(\"MSE KNN = 10:\", mse3)"
   ]
  },
  {
   "cell_type": "code",
   "execution_count": 14,
   "id": "2bd85b8f",
   "metadata": {},
   "outputs": [
    {
     "name": "stdout",
     "output_type": "stream",
     "text": [
      "MSE LDA: 3.6744292237442924\n"
     ]
    }
   ],
   "source": [
    "#Linear Discriminant Analysis\n",
    "reg4 = LinearDiscriminantAnalysis()\n",
    "reg4.fit(x_train,y_train)\n",
    "y_pred4 = reg4.predict(x_test)\n",
    "mse4 = mean_squared_error(y_test, y_pred4)\n",
    "print(\"MSE LDA:\", mse4)"
   ]
  },
  {
   "cell_type": "code",
   "execution_count": 15,
   "id": "94c7fd14",
   "metadata": {},
   "outputs": [
    {
     "name": "stdout",
     "output_type": "stream",
     "text": [
      "Test ErrorLasso: 3.1276527272157084\n",
      "Coefficients:  4\n"
     ]
    }
   ],
   "source": [
    "#LASSO cross-validation\n",
    "model = LassoCV()\n",
    "model.fit(x_train, y_train)\n",
    "predictions = model.predict(x_test)\n",
    "print(\"Test ErrorLasso: \" + str(mean_squared_error(y_test, predictions)))\n",
    "print(\"Coefficients: \", str(len(model.coef_)))\n"
   ]
  },
  {
   "cell_type": "code",
   "execution_count": 16,
   "id": "338adaf3",
   "metadata": {},
   "outputs": [
    {
     "name": "stdout",
     "output_type": "stream",
     "text": [
      "Test ErrorRidge: 3.12629766278628\n",
      "Coefficients:  4\n"
     ]
    }
   ],
   "source": [
    "#Ridge cross-validation\n",
    "model = RidgeCV()\n",
    "model.fit(x_train, y_train)\n",
    "predictions = model.predict(x_test)\n",
    "print(\"Test ErrorRidge: \" + str(mean_squared_error(y_test, predictions)))\n",
    "print(\"Coefficients: \", str(len(model.coef_)))"
   ]
  }
 ],
 "metadata": {
  "kernelspec": {
   "display_name": "Python 3 (ipykernel)",
   "language": "python",
   "name": "python3"
  },
  "language_info": {
   "codemirror_mode": {
    "name": "ipython",
    "version": 3
   },
   "file_extension": ".py",
   "mimetype": "text/x-python",
   "name": "python",
   "nbconvert_exporter": "python",
   "pygments_lexer": "ipython3",
   "version": "3.9.12"
  }
 },
 "nbformat": 4,
 "nbformat_minor": 5
}
